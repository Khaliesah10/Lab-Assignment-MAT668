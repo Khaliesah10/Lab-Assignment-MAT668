{
  "nbformat": 4,
  "nbformat_minor": 0,
  "metadata": {
    "kernelspec": {
      "display_name": "Python 3",
      "language": "python",
      "name": "python3"
    },
    "language_info": {
      "codemirror_mode": {
        "name": "ipython",
        "version": 3
      },
      "file_extension": ".py",
      "mimetype": "text/x-python",
      "name": "python",
      "nbconvert_exporter": "python",
      "pygments_lexer": "ipython3",
      "version": "3.5.1"
    },
    "colab": {
      "name": "Lab MAT668.ipynb",
      "provenance": [],
      "include_colab_link": true
    }
  },
  "cells": [
    {
      "cell_type": "markdown",
      "metadata": {
        "id": "view-in-github",
        "colab_type": "text"
      },
      "source": [
        "<a href=\"https://colab.research.google.com/github/Khaliesah10/Lab-Assignment-MAT668/blob/master/Lab_MAT668.ipynb\" target=\"_parent\"><img src=\"https://colab.research.google.com/assets/colab-badge.svg\" alt=\"Open In Colab\"/></a>"
      ]
    },
    {
      "cell_type": "markdown",
      "metadata": {
        "id": "5iepuIRupPrN"
      },
      "source": [
        "# MAT668\n",
        "## Lab 1"
      ]
    },
    {
      "cell_type": "code",
      "metadata": {
        "id": "sg4ie1rxpPrP",
        "outputId": "64f5af5a-3504-4afa-977b-be1c55d7fbcd",
        "colab": {
          "base_uri": "https://localhost:8080/",
          "height": 0
        }
      },
      "source": [
        "%pylab inline"
      ],
      "execution_count": 18,
      "outputs": [
        {
          "output_type": "stream",
          "name": "stdout",
          "text": [
            "Populating the interactive namespace from numpy and matplotlib\n"
          ]
        },
        {
          "output_type": "stream",
          "name": "stderr",
          "text": [
            "/usr/local/lib/python3.11/dist-packages/IPython/core/magics/pylab.py:159: UserWarning: pylab import has clobbered these variables: ['degrees']\n",
            "`%matplotlib` prevents importing * from pylab and numpy\n",
            "  warn(\"pylab import has clobbered these variables: %s\"  % clobbered +\n"
          ]
        }
      ]
    },
    {
      "cell_type": "markdown",
      "metadata": {
        "id": "vEeA1msOpPrT"
      },
      "source": [
        "### Q1\n",
        "Assign your name to a variable called \"my_name\". <br />\n",
        "Print your name using \"print\" function. <br />\n",
        "https://docs.python.org/3/tutorial/introduction.html#strings."
      ]
    },
    {
      "cell_type": "code",
      "metadata": {
        "id": "AQ27geXWpPrU",
        "colab": {
          "base_uri": "https://localhost:8080/",
          "height": 0
        },
        "outputId": "99633848-be7c-47c2-f1eb-d4328126b5af"
      },
      "source": [
        "my_name = \"Nur Khaliesah Hanini Binti Mohammad Hakim Tan\"\n",
        "print(my_name)"
      ],
      "execution_count": 19,
      "outputs": [
        {
          "output_type": "stream",
          "name": "stdout",
          "text": [
            "Nur Khaliesah Hanini Binti Mohammad Hakim Tan\n"
          ]
        }
      ]
    },
    {
      "cell_type": "markdown",
      "metadata": {
        "id": "AomUYYZ_pPrW"
      },
      "source": [
        "<hr />"
      ]
    },
    {
      "cell_type": "markdown",
      "metadata": {
        "id": "kMHHvI4MpPrX"
      },
      "source": [
        "### Q2\n",
        "Define a list called \"nodes\" of 10 nodes (0, 1, ..., 9) using \"range\" function.<br />\n",
        "Convert the range into a list using \"list\" function.<br />\n",
        "Print the list of nodes using \"print\" function.\n",
        "\n",
        "https://docs.python.org/3/tutorial/introduction.html#lists <br />\n",
        "https://docs.python.org/3/tutorial/controlflow.html#the-range-function\n",
        "\n"
      ]
    },
    {
      "cell_type": "code",
      "metadata": {
        "id": "lO3ejI21pPrX",
        "colab": {
          "base_uri": "https://localhost:8080/",
          "height": 0
        },
        "outputId": "02e80011-8214-4795-97b2-f31faa9b88f6"
      },
      "source": [
        "nodes = list(range(0,10))\n",
        "print(nodes)"
      ],
      "execution_count": 20,
      "outputs": [
        {
          "output_type": "stream",
          "name": "stdout",
          "text": [
            "[0, 1, 2, 3, 4, 5, 6, 7, 8, 9]\n"
          ]
        }
      ]
    },
    {
      "cell_type": "markdown",
      "metadata": {
        "id": "IhQaOSjfpPra"
      },
      "source": [
        "<hr />"
      ]
    },
    {
      "cell_type": "markdown",
      "metadata": {
        "id": "Fq4CzH-GpPra"
      },
      "source": [
        "### Q3\n",
        "Define a list using your student ID named \"studid\".<br >\n",
        "For example, if your student ID is \"2015234031\",<br />\n",
        "your list is [2, 0, 1, 5, 2, 3, 4, 0, 3, 1].<br />\n",
        "Print it using  \"print\" function."
      ]
    },
    {
      "cell_type": "code",
      "metadata": {
        "id": "cJJBqUHapPrb",
        "colab": {
          "base_uri": "https://localhost:8080/",
          "height": 0
        },
        "outputId": "727fdefd-3f39-42a4-bdfb-617c041caae6"
      },
      "source": [
        "studid = [2, 0, 2, 2, 8, 7, 9, 9, 3, 2]\n",
        "print(studid)"
      ],
      "execution_count": 21,
      "outputs": [
        {
          "output_type": "stream",
          "name": "stdout",
          "text": [
            "[2, 0, 2, 2, 8, 7, 9, 9, 3, 2]\n"
          ]
        }
      ]
    },
    {
      "cell_type": "markdown",
      "metadata": {
        "id": "L3cgesB_pPrd"
      },
      "source": [
        "<hr />"
      ]
    },
    {
      "cell_type": "markdown",
      "metadata": {
        "id": "iyLiIstFpPre"
      },
      "source": [
        "### Q4\n",
        "Use \"zip\" function to create a sequence of tuple and called it \"edges\".<br />\n",
        "Each tuple defines an edge between two nodes from the list nodes <br />\n",
        "and the list studid (nodes[i], stud[i]).<br />\n",
        "Then, use \"list\" function  to convert \"edges\" sequence into a list.<br />\n",
        "Print the list of edges using \"print\" function.<br />\n",
        "Example:<br />\n",
        "If nodes = [0, 1, 2, 3, 4, 5, 6, 7, 8, 9] and  studid = [2, 0, 1, 5, 2, 3, 4, 0, 3, 1]<br />\n",
        "then, edges = [(0, 2), (1, 0), (2, 1), (3, 5), (4, 2), (5, 3), (6, 4), (7, 0), (8, 3), (9, 1)]\n",
        "\n",
        "https://docs.python.org/3/tutorial/datastructures.html#nested-list-comprehensions"
      ]
    },
    {
      "cell_type": "code",
      "metadata": {
        "id": "kCQyKJKnpPrf",
        "colab": {
          "base_uri": "https://localhost:8080/",
          "height": 0
        },
        "outputId": "8c4cbdce-6a93-47f1-9546-a398df58a68c"
      },
      "source": [
        "nodes = list(range(0,10))\n",
        "studid = [2,0,2,2,8,7,9,9,3,2]\n",
        "\n",
        "edges = list(zip(nodes,studid))\n",
        "print(edges)"
      ],
      "execution_count": 22,
      "outputs": [
        {
          "output_type": "stream",
          "name": "stdout",
          "text": [
            "[(0, 2), (1, 0), (2, 2), (3, 2), (4, 8), (5, 7), (6, 9), (7, 9), (8, 3), (9, 2)]\n"
          ]
        }
      ]
    },
    {
      "cell_type": "markdown",
      "metadata": {
        "id": "gmJzPcAhpPrh"
      },
      "source": [
        "<hr />"
      ]
    },
    {
      "cell_type": "markdown",
      "metadata": {
        "id": "1Ac7kBuTpPrh"
      },
      "source": [
        "### Q5\n",
        "Import networkx module as nx.\n",
        "\n",
        "Then, create an empty graph G with no nodes and no edges.\n",
        "\n",
        "https://networkx.github.io/documentation/stable/tutorial.html#creating-a-graph\n"
      ]
    },
    {
      "cell_type": "code",
      "metadata": {
        "id": "XkaBiYPJpPri",
        "colab": {
          "base_uri": "https://localhost:8080/",
          "height": 0
        },
        "outputId": "c39d1e1c-ad07-40f6-cd75-38bb785c43e4"
      },
      "source": [
        "import networkx as nx\n",
        "\n",
        "G = nx.Graph()\n",
        "print(G)"
      ],
      "execution_count": 40,
      "outputs": [
        {
          "output_type": "stream",
          "name": "stdout",
          "text": [
            "Graph with 0 nodes and 0 edges\n"
          ]
        }
      ]
    },
    {
      "cell_type": "markdown",
      "metadata": {
        "id": "Xr6cAfj_pPrk"
      },
      "source": [
        "<hr />"
      ]
    },
    {
      "cell_type": "markdown",
      "metadata": {
        "id": "rMYBtFj0pPrl"
      },
      "source": [
        "### Q6\n",
        "Add \"edges\" to G using \"add_edges_from\" function.\n",
        "\n",
        "https://networkx.github.io/documentation/stable/tutorial.html#edges"
      ]
    },
    {
      "cell_type": "code",
      "metadata": {
        "id": "D5KhwXUkpPrm",
        "colab": {
          "base_uri": "https://localhost:8080/",
          "height": 533
        },
        "outputId": "299f5861-7eec-4efd-b163-289a5c54b62e"
      },
      "source": [
        "edges = [(0, 2), (1, 0), (2, 2), (3, 2), (4, 8), (5, 7), (6, 9), (7, 9), (8, 3), (9, 2)]\n",
        "\n",
        "G.add_edges_from(edges)\n",
        "nx.draw(G, with_labels=True, node_color='lightblue', edge_color='gray')\n",
        "print(G)"
      ],
      "execution_count": 24,
      "outputs": [
        {
          "output_type": "stream",
          "name": "stdout",
          "text": [
            "Graph with 10 nodes and 10 edges\n"
          ]
        },
        {
          "output_type": "display_data",
          "data": {
            "text/plain": [
              "<Figure size 640x480 with 1 Axes>"
            ],
            "image/png": "[encoded data removed]"
          },
          "metadata": {}
        }
      ]
    },
    {
      "cell_type": "markdown",
      "metadata": {
        "id": "jGMLq-NkpPro"
      },
      "source": [
        "<hr />"
      ]
    },
    {
      "cell_type": "markdown",
      "metadata": {
        "id": "TMAP5tNppPrp"
      },
      "source": [
        "### Q7\n",
        "Print all nodes using \"list\" and print\" function.\n",
        "\n",
        "https://networkx.github.io/documentation/stable/tutorial.html#edges"
      ]
    },
    {
      "cell_type": "code",
      "metadata": {
        "id": "irvqMbyhpPrp",
        "colab": {
          "base_uri": "https://localhost:8080/",
          "height": 0
        },
        "outputId": "febe6cab-a3b2-4d7b-e456-62a51e9623c0"
      },
      "source": [
        "nodes = list(G.nodes())\n",
        "print(nodes)"
      ],
      "execution_count": 25,
      "outputs": [
        {
          "output_type": "stream",
          "name": "stdout",
          "text": [
            "[0, 2, 1, 3, 4, 8, 5, 7, 6, 9]\n"
          ]
        }
      ]
    },
    {
      "cell_type": "markdown",
      "metadata": {
        "id": "_DOMJO-zpPrr"
      },
      "source": [
        "<hr />"
      ]
    },
    {
      "cell_type": "markdown",
      "metadata": {
        "id": "zTZd2f0JpPrs"
      },
      "source": [
        "### Q8\n",
        "Print all edges using \"list\" and print\" function.\n",
        "\n",
        "https://networkx.github.io/documentation/stable/tutorial.html#edges"
      ]
    },
    {
      "cell_type": "code",
      "metadata": {
        "id": "YDacB8IopPrt",
        "colab": {
          "base_uri": "https://localhost:8080/",
          "height": 0
        },
        "outputId": "02f2a91f-d298-49eb-ed89-6400bb18b0f3"
      },
      "source": [
        "edges = list(G.edges())\n",
        "print(edges)"
      ],
      "execution_count": 26,
      "outputs": [
        {
          "output_type": "stream",
          "name": "stdout",
          "text": [
            "[(0, 2), (0, 1), (2, 2), (2, 3), (2, 9), (3, 8), (4, 8), (5, 7), (7, 9), (6, 9)]\n"
          ]
        }
      ]
    },
    {
      "cell_type": "markdown",
      "metadata": {
        "id": "mRG0TKy3pPrv"
      },
      "source": [
        "<hr />"
      ]
    },
    {
      "cell_type": "markdown",
      "metadata": {
        "id": "7SdOBQkgpPrx"
      },
      "source": [
        "### Q9\n",
        "Print the number of nodes using <br />\"number_of_nodes\" functon, and <br />\n",
        "\"print\" function.\n",
        "\n",
        "https://networkx.github.io/documentation/stable/tutorial.html#edges"
      ]
    },
    {
      "cell_type": "code",
      "metadata": {
        "id": "1YAgQvZPpPry",
        "colab": {
          "base_uri": "https://localhost:8080/",
          "height": 0
        },
        "outputId": "e5eb620b-439a-4c2d-f84d-820447861110"
      },
      "source": [
        "print(G.number_of_nodes())"
      ],
      "execution_count": 27,
      "outputs": [
        {
          "output_type": "stream",
          "name": "stdout",
          "text": [
            "10\n"
          ]
        }
      ]
    },
    {
      "cell_type": "markdown",
      "metadata": {
        "id": "u3XDz_7ppPr0"
      },
      "source": [
        "<hr />"
      ]
    },
    {
      "cell_type": "markdown",
      "metadata": {
        "id": "mnPJ2DzYpPr1"
      },
      "source": [
        "### Q10\n",
        "Print the number of edges using <br />\"number_of_edges\" function , and<br /> \"print\" function."
      ]
    },
    {
      "cell_type": "code",
      "metadata": {
        "id": "HaIB1lp_pPr2",
        "colab": {
          "base_uri": "https://localhost:8080/",
          "height": 0
        },
        "outputId": "5e869ad7-c8c9-45ee-9025-f868b706c6c6"
      },
      "source": [
        "print(G.number_of_edges())"
      ],
      "execution_count": 28,
      "outputs": [
        {
          "output_type": "stream",
          "name": "stdout",
          "text": [
            "10\n"
          ]
        }
      ]
    },
    {
      "cell_type": "markdown",
      "metadata": {
        "id": "Zp4SBR4BpPr4"
      },
      "source": [
        "<hr />"
      ]
    },
    {
      "cell_type": "markdown",
      "metadata": {
        "collapsed": false,
        "id": "XWqTWYhmpPr5"
      },
      "source": [
        "### Q11\n",
        "Print the list of nodes adjacent to node 2 (neighbour of node 2)<br />\n",
        "using \"neighbors\" function<br />\n",
        "and \"print\" function.\n",
        "\n",
        "https://networkx.github.io/documentation/stable/tutorial.html#edges"
      ]
    },
    {
      "cell_type": "code",
      "metadata": {
        "id": "_RT6kP3EpPr6",
        "colab": {
          "base_uri": "https://localhost:8080/",
          "height": 0
        },
        "outputId": "02ceb533-7900-487d-c6ae-48995e8a9500"
      },
      "source": [
        "print(list(G.neighbors(2)))"
      ],
      "execution_count": 29,
      "outputs": [
        {
          "output_type": "stream",
          "name": "stdout",
          "text": [
            "[0, 2, 3, 9]\n"
          ]
        }
      ]
    },
    {
      "cell_type": "markdown",
      "metadata": {
        "id": "qKo7PEHRpPr9"
      },
      "source": [
        "<hr />"
      ]
    },
    {
      "cell_type": "markdown",
      "metadata": {
        "id": "d6ARhDbCpPr9"
      },
      "source": [
        "### Q12\n",
        "Print all the nodes and a list of their respective neighbours side by side using<br />\n",
        "\"for loop\", <br />\n",
        "\"nodes\" function, <br />\n",
        "\"neighbors\" function, and <br />\n",
        "\"print\" function.\n",
        "\n",
        "Example:<br />\n",
        "0 [1, 2, 7]<br />\n",
        "1 [0, 9, 2]<br />\n",
        "2 [0, 1, 4]<br />\n",
        "3 [8, 5]<br />\n",
        "4 [2, 6]<br />\n",
        "5 [3]<br />\n",
        "6 [4]<br />\n",
        "7 [0]<br />\n",
        "8 [3]<br />\n",
        "9 [1]\n",
        "\n",
        "https://docs.python.org/3/tutorial/controlflow.html#for-statements <br />\n",
        "https://networkx.github.io/documentation/stable/tutorial.html#edges"
      ]
    },
    {
      "cell_type": "code",
      "metadata": {
        "id": "P0t7CHOdpPr-",
        "colab": {
          "base_uri": "https://localhost:8080/",
          "height": 0
        },
        "outputId": "3d8cef62-21cc-4d5d-dd82-c64451a0cec8"
      },
      "source": [
        "for node in G.nodes():\n",
        "    neighbours = list(G.neighbors(node))\n",
        "    print(node, neighbours)"
      ],
      "execution_count": 30,
      "outputs": [
        {
          "output_type": "stream",
          "name": "stdout",
          "text": [
            "0 [2, 1]\n",
            "2 [0, 2, 3, 9]\n",
            "1 [0]\n",
            "3 [2, 8]\n",
            "4 [8]\n",
            "8 [4, 3]\n",
            "5 [7]\n",
            "7 [5, 9]\n",
            "6 [9]\n",
            "9 [6, 7, 2]\n"
          ]
        }
      ]
    },
    {
      "cell_type": "markdown",
      "metadata": {
        "id": "-n1lg81NpPsB"
      },
      "source": [
        "<hr />"
      ]
    },
    {
      "cell_type": "markdown",
      "metadata": {
        "id": "9Ffba_iYpPsC"
      },
      "source": [
        "### Q13\n",
        "Print the degree for node 2 using the \"degree\" function , and <br />\n",
        "\"print\" function.<br />\n",
        "Please ignore parameter \"weight\".\n",
        "\n",
        "https://networkx.github.io/documentation/stable/tutorial.html#edges"
      ]
    },
    {
      "cell_type": "code",
      "metadata": {
        "id": "1e6QqN7VpPsD",
        "colab": {
          "base_uri": "https://localhost:8080/",
          "height": 0
        },
        "outputId": "bad83f87-8c0c-44bf-c552-d9406573d654"
      },
      "source": [
        "degrees = G.degree(2)\n",
        "print(degrees)"
      ],
      "execution_count": 31,
      "outputs": [
        {
          "output_type": "stream",
          "name": "stdout",
          "text": [
            "5\n"
          ]
        }
      ]
    },
    {
      "cell_type": "markdown",
      "metadata": {
        "id": "h9dAJ9lqpPsI"
      },
      "source": [
        "<hr />"
      ]
    },
    {
      "cell_type": "markdown",
      "metadata": {
        "id": "RTMnFYAwpPsJ"
      },
      "source": [
        "### Q14\n",
        "Print all the nodes and their respective degree side by side using<br />\n",
        "\"for loop\", <br />\n",
        "\"nodes\" function, <br />\n",
        "\"degree\" function, and <br />\n",
        "\"print\" function.\n",
        "\n",
        "Example:<br />\n",
        "0 3<br />\n",
        "1 3<br />\n",
        "2 3<br />\n",
        "3 2<br />\n",
        "4 2<br />\n",
        "5 1<br />\n",
        "6 1<br />\n",
        "7 1<br />\n",
        "8 1<br />\n",
        "9 1\n",
        "\n",
        "https://docs.python.org/3/tutorial/controlflow.html#for-statements <br />\n",
        "https://networkx.github.io/documentation/stable/tutorial.html#edges<br />\n"
      ]
    },
    {
      "cell_type": "markdown",
      "metadata": {
        "id": "2UNrj3-OpPsK"
      },
      "source": [
        "<hr />"
      ]
    },
    {
      "cell_type": "code",
      "metadata": {
        "id": "0tcQ-x9rpPsL",
        "colab": {
          "base_uri": "https://localhost:8080/",
          "height": 0
        },
        "outputId": "a3af0558-cc38-4978-9a13-ca0aa1606186"
      },
      "source": [
        "for node in G.nodes():\n",
        "    degree = G.degree(node)\n",
        "    print(node, degree)"
      ],
      "execution_count": 32,
      "outputs": [
        {
          "output_type": "stream",
          "name": "stdout",
          "text": [
            "0 2\n",
            "2 5\n",
            "1 1\n",
            "3 2\n",
            "4 1\n",
            "8 2\n",
            "5 1\n",
            "7 2\n",
            "6 1\n",
            "9 3\n"
          ]
        }
      ]
    },
    {
      "cell_type": "markdown",
      "metadata": {
        "id": "As3KK7fEpPsN"
      },
      "source": [
        "<hr />"
      ]
    },
    {
      "cell_type": "markdown",
      "metadata": {
        "id": "bH_cCMGvpPsO"
      },
      "source": [
        "### Q15\n",
        "\"G.degree()\" is of type dict. <br />\n",
        "\"G.degree().keys()\" will return all the nodes.<br />\n",
        "\"G.degree().values()\" will return all the degrees.<br />\n",
        "\n",
        "Create a degree sequence in descending order using<br />\n",
        "\"G.degree().values()\" function and \"list\" function<br />\n",
        "and assign it to variable called \"degree_sequence\"\n",
        "\n",
        "Print \"degree_sequence\" using \"print\" function.\n",
        "\n",
        "Note:\n",
        "\n",
        "Example: <br />\n",
        "[3, 3, 3, 2, 2, 1, 1, 1, 1, 1]\n",
        "\n",
        "https://docs.python.org/3/tutorial/introduction.html#lists <br />\n",
        "https://docs.python.org/3/tutorial/datastructures.html#dictionaries"
      ]
    },
    {
      "cell_type": "code",
      "metadata": {
        "id": "6LIJfvi_pPsP",
        "colab": {
          "base_uri": "https://localhost:8080/",
          "height": 0
        },
        "outputId": "082dfdff-71e1-4741-cbda-90517da04278"
      },
      "source": [
        "degree_sequence = sorted(list(dict(G.degree()).values()),reverse=True)\n",
        "print(degree_sequence)"
      ],
      "execution_count": 33,
      "outputs": [
        {
          "output_type": "stream",
          "name": "stdout",
          "text": [
            "[5, 3, 2, 2, 2, 2, 1, 1, 1, 1]\n"
          ]
        }
      ]
    },
    {
      "cell_type": "markdown",
      "metadata": {
        "id": "0dRAhb9SpPsS"
      },
      "source": [
        "<hr />"
      ]
    },
    {
      "cell_type": "markdown",
      "metadata": {
        "id": "hQ42I9CnpPsT"
      },
      "source": [
        "### Q16\n",
        "Find the maximum vertex degree $\\Delta$ by applying<br />\n",
        "\"max\" function to the list \"degree_sequence\" <br />\n",
        "and assign it to variable \"max_degree\".\n",
        "\n",
        "Print variable \"max_degree\" using \"print\" function."
      ]
    },
    {
      "cell_type": "code",
      "metadata": {
        "id": "5dZszNKspPsU",
        "colab": {
          "base_uri": "https://localhost:8080/",
          "height": 0
        },
        "outputId": "80639373-3e4a-491c-e755-663441a62714"
      },
      "source": [
        "max_degree = max(degree_sequence)\n",
        "print(max_degree)"
      ],
      "execution_count": 34,
      "outputs": [
        {
          "output_type": "stream",
          "name": "stdout",
          "text": [
            "5\n"
          ]
        }
      ]
    },
    {
      "cell_type": "markdown",
      "metadata": {
        "id": "i0AoM5UppPsW"
      },
      "source": [
        "<hr />"
      ]
    },
    {
      "cell_type": "markdown",
      "metadata": {
        "id": "gojNOhlfpPsX"
      },
      "source": [
        "### Q17\n",
        "Find the minimum vertex degree $\\delta$ by applying<br />\n",
        "\"min\" function to the list \"degree_sequence\"<br />\n",
        "and assign it to variable \"min_degree\".\n",
        "\n",
        "Print variable \"min_degree\" using \"print\" function."
      ]
    },
    {
      "cell_type": "code",
      "metadata": {
        "id": "rcxLGrhLpPsY",
        "colab": {
          "base_uri": "https://localhost:8080/",
          "height": 0
        },
        "outputId": "f32d4389-468f-4329-9aa0-acb420fb6d94"
      },
      "source": [
        "min_degree = min(degree_sequence)\n",
        "print(min_degree)"
      ],
      "execution_count": 35,
      "outputs": [
        {
          "output_type": "stream",
          "name": "stdout",
          "text": [
            "1\n"
          ]
        }
      ]
    },
    {
      "cell_type": "markdown",
      "metadata": {
        "id": "1x-5SS7apPsa"
      },
      "source": [
        "<hr />"
      ]
    },
    {
      "cell_type": "markdown",
      "metadata": {
        "id": "B5OhvbB4pPsb"
      },
      "source": [
        "### Q18\n",
        "Calculate the sum of degree of all nodes<br />\n",
        "\n",
        "\"sum\" function to calculate the sum of all degree, and <br />\n",
        "assign it to a variable called \"sum_degree\".\n",
        "\n",
        "Print \"sum_degree\" using \"print\" function.\n",
        "\n",
        "Example:<br />\n",
        "Sum of degree of all nodes = 18<br />"
      ]
    },
    {
      "cell_type": "code",
      "metadata": {
        "id": "SMqMHFpRpPsc",
        "colab": {
          "base_uri": "https://localhost:8080/",
          "height": 0
        },
        "outputId": "642f0958-6250-4f19-a328-b8e6bd055750"
      },
      "source": [
        "sum_degree = sum(degree_sequence)\n",
        "print(sum_degree)"
      ],
      "execution_count": 36,
      "outputs": [
        {
          "output_type": "stream",
          "name": "stdout",
          "text": [
            "20\n"
          ]
        }
      ]
    },
    {
      "cell_type": "markdown",
      "metadata": {
        "id": "jXKgY8EypPse"
      },
      "source": [
        "<hr />"
      ]
    },
    {
      "cell_type": "markdown",
      "metadata": {
        "id": "pUZUnwnGpPsf"
      },
      "source": [
        "### Q19\n",
        "Calculate the value of 2 times the total number of edges using <br />\n",
        "\"number_of_edges\" function, and<br />\n",
        "assign it to a variable called \"edges_times2\".\n",
        "\n",
        "Print \"edges_times2\" using \"print\" function.\n",
        "\n",
        "Example:<br />\n",
        "edges_times2 = 2 x number_of_edges =  18\n",
        "\n",
        "https://networkx.github.io/documentation/stable/tutorial.html#edges"
      ]
    },
    {
      "cell_type": "code",
      "metadata": {
        "id": "bWcQBp1vpPsh",
        "colab": {
          "base_uri": "https://localhost:8080/",
          "height": 0
        },
        "outputId": "b47b47d3-54d0-48a1-c5ae-e0910d644886"
      },
      "source": [
        "total_edges = G.number_of_edges()\n",
        "edges_times2 = 2 * total_edges\n",
        "print(\"edges_times2 =\", edges_times2)"
      ],
      "execution_count": 37,
      "outputs": [
        {
          "output_type": "stream",
          "name": "stdout",
          "text": [
            "edges_times2 = 20\n"
          ]
        }
      ]
    },
    {
      "cell_type": "markdown",
      "metadata": {
        "id": "AcUawahHpPsm"
      },
      "source": [
        "<hr />"
      ]
    },
    {
      "cell_type": "markdown",
      "metadata": {
        "id": "hWPq9PGVpPsn"
      },
      "source": [
        "### Q20\n",
        "Verify Handshaking Lemma (The degree sum formula).<br />\n",
        "$\\sum_{v \\in V} deg(v) = 2|E|$\n",
        "\n",
        "Hint: <br />\n",
        "Is sum_degree = edges_times2? <br />\n",
        "Print the value using \"print\" function."
      ]
    },
    {
      "cell_type": "code",
      "metadata": {
        "id": "IO09VxRApPso",
        "colab": {
          "base_uri": "https://localhost:8080/",
          "height": 0
        },
        "outputId": "f37d05c5-c737-44a7-a578-857531d02973"
      },
      "source": [
        "sum_degree = sum(degree_sequence)\n",
        "edges_times2 = 2 * G.number_of_edges()\n",
        "\n",
        "print(\"sum_degree =\", sum_degree)\n",
        "print(\"edges_times2 =\", edges_times2)\n",
        "\n",
        "if sum_degree == edges_times2:\n",
        "    print(\"Handshaking Lemma Verified: sum_degree == 2 * number_of_edges\")\n",
        "else:\n",
        "    print(\"Handshaking Lemma NOT Verified\")"
      ],
      "execution_count": 38,
      "outputs": [
        {
          "output_type": "stream",
          "name": "stdout",
          "text": [
            "sum_degree = 20\n",
            "edges_times2 = 20\n",
            "Handshaking Lemma Verified: sum_degree == 2 * number_of_edges\n"
          ]
        }
      ]
    },
    {
      "cell_type": "markdown",
      "metadata": {
        "id": "NTUTs1KwpPsq"
      },
      "source": [
        "<hr />"
      ]
    },
    {
      "cell_type": "markdown",
      "metadata": {
        "id": "_WMaZHMOpPsr"
      },
      "source": [
        "### Q21\n",
        "Draw the graph G using \"draw\" function. Add \"with_labels=True\" argument to \"draw\" function to display the node's label."
      ]
    },
    {
      "cell_type": "code",
      "metadata": {
        "id": "4UbZ1LThpPss",
        "colab": {
          "base_uri": "https://localhost:8080/",
          "height": 516
        },
        "outputId": "f8653cfc-de25-409a-d1f4-046d0d5b1adc"
      },
      "source": [
        "import matplotlib.pyplot as plt\n",
        "import networkx as nx\n",
        "\n",
        "nx.draw(G, with_labels=True)\n",
        "plt.show()"
      ],
      "execution_count": 39,
      "outputs": [
        {
          "output_type": "display_data",
          "data": {
            "text/plain": [
              "<Figure size 640x480 with 1 Axes>"
            ],
            "image/png": "[encoded data removed]"
          },
          "metadata": {}
        }
      ]
    }
  ]
}